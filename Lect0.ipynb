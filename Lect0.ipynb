{
 "cells": [
  {
   "cell_type": "markdown",
   "metadata": {},
   "source": [
    "# Lecture 0\n",
    "\n",
    "## Outline of Topics\n",
    " - Basic variables\n",
    " - Conversions\n",
    " - \"Collection\" data types\n",
    "    - lists\n",
    "    - tuples\n",
    "    - sets\n",
    "    - dictionaries\n",
    " - Control statements\n",
    " - The math package\n",
    " - The NumPy package\n",
    " - Plotting\n",
    " \n",
    "For more detail on python please see the Purdue DataMine web link: <a href=\"https://thedatamine.github.io/the-examples-book/python.html\" target=\"_blank\">Data Mine on Python</a>"
   ]
  },
  {
   "cell_type": "markdown",
   "metadata": {},
   "source": [
    "## Basic variables\n",
    "\n",
    "Python uses something called **dynamic typing**, which means that a variable is created when a value is assigned to it. The type can be changed after originally set. There are a few rules on variable names:\n",
    "\n",
    "* Must start with a letter or underscore\n",
    "* Names are case-sensitive\n",
    "\n",
    "A python variable is more than just its value. It must also contain information about the type of the value. There is overhead associated with such flexibility. The code below illustrates three of the variable types: **integer, float, and string**."
   ]
  },
  {
   "cell_type": "code",
   "execution_count": 1,
   "metadata": {},
   "outputs": [
    {
     "name": "stdout",
     "output_type": "stream",
     "text": [
      "The type of x is:\n",
      "<class 'int'>\n",
      "The value of x is:\n",
      "4\n",
      "\n",
      "The type of x is:\n",
      "<class 'float'>\n",
      "The value of x is:\n",
      "4.0\n",
      "\n",
      "The type of x is:\n",
      "<class 'str'>\n",
      "The value of x is:\n",
      "four\n"
     ]
    }
   ],
   "source": [
    "# Integer, i.e., whole numbers both positive and negative. Later on \n",
    "# we will illustrate formatting the print command.\n",
    "x = 4;\n",
    "print('The type of x is:')\n",
    "print(type(x))\n",
    "print('The value of x is:')\n",
    "print(x)\n",
    "print() # Just to give a space.\n",
    "\n",
    "# Floating point, i.e., computer representation of real numbers.\n",
    "x = 4.0;\n",
    "print('The type of x is:')\n",
    "print(type(x))\n",
    "print('The value of x is:')\n",
    "print(x)\n",
    "print() # Just to give a space.\n",
    "\n",
    "# Strings. A string is a sequence of characters. They can be delimited\n",
    "# by single quotes ('blah') or double quotes (\"blah blah\")\n",
    "x = \"four\"\n",
    "print('The type of x is:')\n",
    "print(type(x))\n",
    "print('The value of x is:')\n",
    "print(x)"
   ]
  },
  {
   "cell_type": "markdown",
   "metadata": {},
   "source": [
    "## Conversions\n",
    "Python has a built-in command `float()` that can convert integers and certain strings to floating point numbers."
   ]
  },
  {
   "cell_type": "code",
   "execution_count": 2,
   "metadata": {},
   "outputs": [
    {
     "name": "stdout",
     "output_type": "stream",
     "text": [
      "The type of x is:\n",
      "<class 'int'>\n",
      "The value of x is:\n",
      "4\n",
      "\n",
      "The type of x is:\n",
      "<class 'float'>\n",
      "The value of x is:\n",
      "4.0\n",
      "\n",
      "The type of x is:\n",
      "<class 'str'>\n",
      "The value of x is:\n",
      "1.67\n",
      "\n",
      "The type of x is:\n",
      "<class 'float'>\n",
      "The value of x is:\n",
      "1.67\n",
      "\n"
     ]
    }
   ],
   "source": [
    "# Start with an int.\n",
    "x = 4;\n",
    "\n",
    "print('The type of x is:')\n",
    "print(type(x))\n",
    "print('The value of x is:')\n",
    "print(x)\n",
    "print()\n",
    "\n",
    "# Convert to float\n",
    "x = float(x)\n",
    "print('The type of x is:')\n",
    "print(type(x))\n",
    "print('The value of x is:')\n",
    "print(x)\n",
    "print()\n",
    "\n",
    "# Can also convert strings representing floating point numbers to\n",
    "# float.\n",
    "x = '1.67'\n",
    "print('The type of x is:')\n",
    "print(type(x))\n",
    "print('The value of x is:')\n",
    "print(x)\n",
    "print()\n",
    "\n",
    "# Note that when we print the string version of x it prints it just\n",
    "# as if it were a floating point number, i.e., we can't tell from the\n",
    "# output.\n",
    "x = float(x)\n",
    "print('The type of x is:')\n",
    "print(type(x))\n",
    "print('The value of x is:')\n",
    "print(x)\n",
    "print()"
   ]
  },
  {
   "cell_type": "markdown",
   "metadata": {},
   "source": [
    "There is also a python command `int()`, which can covert floats to integer and certain strings to integer, and a command `str()`, which converts numbers to strings."
   ]
  },
  {
   "cell_type": "markdown",
   "metadata": {},
   "source": [
    "## Boolean type\n",
    "A Boolean value has a python type **bool**. The possible values a Boolean variable can take are: **True** and **False**. These are typically used to hold the results of logical tests, which in turn can be used to control the flow of a python program."
   ]
  },
  {
   "cell_type": "code",
   "execution_count": 3,
   "metadata": {},
   "outputs": [
    {
     "name": "stdout",
     "output_type": "stream",
     "text": [
      "The type of x is:\n",
      "<class 'bool'>\n",
      "The value of x is:\n",
      "True\n"
     ]
    }
   ],
   "source": [
    "x = True;\n",
    "print('The type of x is:')\n",
    "print(type(x))\n",
    "print('The value of x is:')\n",
    "print(x)"
   ]
  },
  {
   "cell_type": "markdown",
   "metadata": {},
   "source": [
    "## Collection data types\n",
    "There are four **collection** data types: **lists**, **tuples**, **sets**, and **dictionaries**. (Some say that a **string** is a collection data type since it is a ordered set of characters)."
   ]
  },
  {
   "cell_type": "markdown",
   "metadata": {},
   "source": [
    "**Lists** are ordered, changeable, and allow duplicate members:"
   ]
  },
  {
   "cell_type": "code",
   "execution_count": 4,
   "metadata": {},
   "outputs": [
    {
     "name": "stdout",
     "output_type": "stream",
     "text": [
      "The type of Coloradothings is:\n",
      "<class 'list'>\n",
      "The length of Coloradothings is:\n",
      "5\n",
      "The value of Coloradothings is:\n",
      "['wheat', 'corn', 'sugar beets', 'pinto beans', 1959]\n"
     ]
    }
   ],
   "source": [
    "# Create a list with 5 elements.\n",
    "Coloradothings = [\"wheat\", \"corn\", \"sugar beets\", \"pinto beans\", 1959]\n",
    "print('The type of Coloradothings is:')\n",
    "print(type(Coloradothings))\n",
    "print('The length of Coloradothings is:')\n",
    "print(len(Coloradothings))\n",
    "print('The value of Coloradothings is:')\n",
    "print(Coloradothings)"
   ]
  },
  {
   "cell_type": "code",
   "execution_count": 5,
   "metadata": {},
   "outputs": [
    {
     "name": "stdout",
     "output_type": "stream",
     "text": [
      "For Coloradothings[3] ...\n",
      "pinto beans\n",
      "<class 'str'>\n",
      "\n",
      "For Coloradothings[4] ...\n",
      "1959\n",
      "<class 'int'>\n"
     ]
    }
   ],
   "source": [
    "# The elements inside of Coloradothings may be of differing\n",
    "# types ...\n",
    "print('For Coloradothings[3] ...')\n",
    "print(Coloradothings[3])\n",
    "print(type(Coloradothings[3]))\n",
    "print()\n",
    "print('For Coloradothings[4] ...')\n",
    "print(Coloradothings[4])\n",
    "print(type(Coloradothings[4]))"
   ]
  },
  {
   "cell_type": "code",
   "execution_count": 6,
   "metadata": {},
   "outputs": [
    {
     "name": "stdout",
     "output_type": "stream",
     "text": [
      "['wheat', 'corn', 'sugar beets', 'pinto beans', 1959, 'Amherst']\n",
      "\n",
      "['wheat', 'corn', 'sunflowers', 'sugar beets', 'pinto beans', 1959, 'Amherst']\n"
     ]
    }
   ],
   "source": [
    "# We can append to a list and insert in a list\n",
    "\n",
    "Coloradothings.append(\"Amherst\")\n",
    "print(Coloradothings)\n",
    "print()\n",
    "Coloradothings.insert(2, \"sunflowers\")\n",
    "print(Coloradothings)"
   ]
  },
  {
   "cell_type": "markdown",
   "metadata": {},
   "source": [
    "**Tuples** are ordered, unchangeable, and allow duplicate members."
   ]
  },
  {
   "cell_type": "code",
   "execution_count": 7,
   "metadata": {},
   "outputs": [
    {
     "name": "stdout",
     "output_type": "stream",
     "text": [
      "<class 'tuple'>\n",
      "\n",
      "('Basketball', 'Corn')\n"
     ]
    }
   ],
   "source": [
    "# Make a tuple.\n",
    "Indianathings = (\"Basketball\", \"Corn\")\n",
    "print(type(Indianathings))\n",
    "print()\n",
    "print(Indianathings)\n",
    "#Indianathings.append(\"Wall street\") # uncomment this to see an error\n"
   ]
  },
  {
   "cell_type": "markdown",
   "metadata": {},
   "source": [
    "Tuples can contain a single item but to do this we must specify them with a comma after the first and only element, e.g., `Indianathings = (\"Basketball\")` is not a tuple (it's a string), while `Indianathings = (\"Basketball\",)` is a tuple.\n",
    "\n",
    "Tuples cannot be changed. For example, if Indianathings is a tuple then `Indianathings.append(\"Wall street\")` will cause an error."
   ]
  },
  {
   "cell_type": "markdown",
   "metadata": {},
   "source": [
    "**Sets** are unordered, changeable (in the sense that we can add and remove items from sets). Sets do not allow duplicates."
   ]
  },
  {
   "cell_type": "code",
   "execution_count": 8,
   "metadata": {},
   "outputs": [
    {
     "name": "stdout",
     "output_type": "stream",
     "text": [
      "<class 'set'>\n",
      "{'Horses', 'Bluegrass', 'Wildcats', 'Basketball', 'Bourbon', 'Mountains and Western KY'}\n",
      "\n",
      "Horses\n",
      "Bluegrass\n",
      "Wildcats\n",
      "Basketball\n",
      "Bourbon\n",
      "Mountains and Western KY\n",
      "\n",
      "True\n",
      "\n",
      "False\n"
     ]
    }
   ],
   "source": [
    "# Make a set for UKY\n",
    "UKYthings = {\"Wildcats\", \"Basketball\", \"Bourbon\", \"Horses\", \"Bluegrass\", \"Mountains and Western KY\"}\n",
    "print(type(UKYthings))\n",
    "print(UKYthings) # Note the order it prints\n",
    "print()\n",
    "\n",
    "for x in UKYthings: # Note the order with which the for loop executes\n",
    "    print(x)\n",
    "\n",
    "print()\n",
    "print(\"Basketball\" in UKYthings)\n",
    "\n",
    "print()\n",
    "print(\"Football\" in UKYthings)"
   ]
  },
  {
   "cell_type": "code",
   "execution_count": 9,
   "metadata": {},
   "outputs": [
    {
     "name": "stdout",
     "output_type": "stream",
     "text": [
      "<class 'set'>\n",
      "{'Engineering', 'Airmen', 'Golden tigers', 'TU', 'Booker T. Washington', 'Veterinary Medicine'}\n",
      "\n",
      "Engineering\n",
      "Airmen\n",
      "Golden tigers\n",
      "TU\n",
      "Booker T. Washington\n",
      "Veterinary Medicine\n",
      "\n",
      "False\n",
      "\n",
      "True\n"
     ]
    }
   ],
   "source": [
    "# Make a set for Tuskegee\n",
    "Tuskegeethings = {\"Golden tigers\", \"TU\", \"Booker T. Washington\", \"Veterinary Medicine\", \"Engineering\", \"Airmen\"}\n",
    "print(type(Tuskegeethings))\n",
    "print(Tuskegeethings) # Note the order it prints\n",
    "print()\n",
    "\n",
    "for x in Tuskegeethings: # Note the order with which the for loop executes\n",
    "    print(x)\n",
    "\n",
    "print()\n",
    "print(\"Basketball\" in Tuskegeethings)\n",
    "\n",
    "print()\n",
    "print(\"Engineering\" in Tuskegeethings)\n"
   ]
  },
  {
   "cell_type": "code",
   "execution_count": 10,
   "metadata": {},
   "outputs": [
    {
     "name": "stdout",
     "output_type": "stream",
     "text": [
      "<class 'set'>\n",
      "{'Gene Keady', 'study sessions', 'Ag and Bio Engineering', 'professors', 'students', 'Ross-Ade Stadium'}\n",
      "\n",
      "Gene Keady\n",
      "study sessions\n",
      "Ag and Bio Engineering\n",
      "professors\n",
      "students\n",
      "Ross-Ade Stadium\n",
      "\n",
      "True\n",
      "False\n"
     ]
    }
   ],
   "source": [
    "# Make a set.\n",
    "Purduethings = {\"Ag and Bio Engineering\", \"Ross-Ade Stadium\", \"students\", \"professors\", \"Gene Keady\", \"study sessions\"}\n",
    "print(type(Purduethings))\n",
    "print(Purduethings) # Note the order it prints\n",
    "print()\n",
    "\n",
    "for x in Purduethings: # Note the order with which the for loop executes\n",
    "    print(x)\n",
    "\n",
    "print()\n",
    "print(\"Ag and Bio Engineering\" in Purduethings)\n",
    "print(\"Medical School\" in Purduethings)"
   ]
  },
  {
   "cell_type": "markdown",
   "metadata": {},
   "source": [
    "From the code output above we note:\n",
    "1. The order in which we included the set items when defining it is not the order that python used to enumerate the items when printing. Just FYI.\n",
    "2. The statement in the last print command: `\"Ag and Bio Engineering\" in Purduethings` is a Boolean variable."
   ]
  },
  {
   "cell_type": "markdown",
   "metadata": {},
   "source": [
    "We can perform classical set operations (**union**, **intersection**, **difference**, **test subset**):"
   ]
  },
  {
   "cell_type": "code",
   "execution_count": 11,
   "metadata": {},
   "outputs": [
    {
     "name": "stdout",
     "output_type": "stream",
     "text": [
      "Purduethings union IUthings equals:\n",
      "{'study sessions', 'Bobby Knight', 'Ag and Bio Engineering', 'professors', 'Hoosiers', 'Gene Keady', 'parties', 'students', 'Ross-Ade Stadium'}\n",
      "\n",
      "Purduethings intersection IUthings equals:\n",
      "{'students', 'professors'}\n",
      "\n",
      "IUthings not also in Purduethings equals:\n",
      "{'parties', 'Bobby Knight', 'Hoosiers'}\n",
      "\n",
      "False\n",
      "True\n"
     ]
    }
   ],
   "source": [
    "# Make another set ...\n",
    "IUthings = {\"Hoosiers\", \"Bobby Knight\", \"students\", \"professors\", \"parties\"}\n",
    "print('Purduethings union IUthings equals:')\n",
    "print(Purduethings.union(IUthings))\n",
    "print()\n",
    "print('Purduethings intersection IUthings equals:')\n",
    "print(Purduethings.intersection(IUthings))\n",
    "print()\n",
    "print('IUthings not also in Purduethings equals:')\n",
    "print(IUthings.difference(Purduethings))\n",
    "print()\n",
    "print({\"Gene Cernan\",}.issubset(Purduethings))\n",
    "Purduethings.add(\"Gene Cernan\")\n",
    "print({\"Gene Cernan\",}.issubset(Purduethings))\n",
    "\n",
    "#print(Purduethings)"
   ]
  },
  {
   "cell_type": "markdown",
   "metadata": {},
   "source": [
    "**Dictionaries** are unordered, changeable, and indexed. Written with \"{}\" but made up of key-value pairs. A key-value pair is a pair of strings separated by a colon. Different key-value pairs are separated by commas. It looks like `{\"key1\": \"value1\", \"key2: \"value2\"}`."
   ]
  },
  {
   "cell_type": "code",
   "execution_count": 12,
   "metadata": {},
   "outputs": [
    {
     "name": "stdout",
     "output_type": "stream",
     "text": [
      "<class 'dict'>\n",
      "{'brand': 'JD', 'model': '7720', 'year': 1978, 'color': 'green'}\n"
     ]
    }
   ],
   "source": [
    "# Make some dictionaries of farm equipment.\n",
    "OldCombine = {\"brand\": \"CASE\", \"model\": \"7130\", \"year\": 2014}\n",
    "NewCombine = {\"brand\": \"CASE\", \"model\": \"8240\", \"year\": 2016}\n",
    "Tractor1 = {\"brand\": \"CASE\", \"model\": \"290\", \"year\": 2013}\n",
    "Pickup = {\"brand\": \"CHEVY\", \"model\": \"Silverado\", \"year\": 2005}\n",
    "FavoriteOldCombineEver = {\"brand\": \"JD\", \"model\": \"7720\", \"year\": 1978, \"color\": \"green\"}\n",
    "\n",
    "print(type(FavoriteOldCombineEver))\n",
    "print(FavoriteOldCombineEver)"
   ]
  },
  {
   "cell_type": "markdown",
   "metadata": {},
   "source": [
    "Dictionaries can contain dictionaries."
   ]
  },
  {
   "cell_type": "code",
   "execution_count": 13,
   "metadata": {},
   "outputs": [
    {
     "name": "stdout",
     "output_type": "stream",
     "text": [
      "{'C1': {'brand': 'CASE', 'model': '7130', 'year': 2014}, 'C2': {'brand': 'CASE', 'model': '8240', 'year': 2016}, 'T1': {'brand': 'CASE', 'model': '290', 'year': 2013}, 'P1': {'brand': 'CHEVY', 'model': 'Silverado', 'year': 2005}, 'C3': {'brand': 'JD', 'model': '7720', 'year': 1978, 'color': 'green'}}\n"
     ]
    }
   ],
   "source": [
    "# Create a dictionary of farm equipment from the dictionaries of\n",
    "# individual machines.\n",
    "\n",
    "FarmEquipment = {\"C1\": OldCombine, \"C2\": NewCombine, \"T1\": Tractor1, \"P1\": Pickup, \"C3\": FavoriteOldCombineEver}\n",
    "print(FarmEquipment)"
   ]
  },
  {
   "cell_type": "markdown",
   "metadata": {},
   "source": [
    "## Control statements\n",
    "There are three methods of program control that we consider here:\n",
    "1. If/else statement\n",
    "2. For loops\n",
    "3. While loops"
   ]
  },
  {
   "cell_type": "code",
   "execution_count": 14,
   "metadata": {},
   "outputs": [
    {
     "name": "stdout",
     "output_type": "stream",
     "text": [
      "a is greater than b\n"
     ]
    }
   ],
   "source": [
    "# Example if/else statement\n",
    "\n",
    "a = 5;\n",
    "b = 3;\n",
    "if b > a:\n",
    "    print(\"b is greater than a\")\n",
    "elif a == b:\n",
    "    print(\"a and b are equal\")\n",
    "else:\n",
    "    print(\"a is greater than b\")"
   ]
  },
  {
   "cell_type": "code",
   "execution_count": 15,
   "metadata": {},
   "outputs": [
    {
     "name": "stdout",
     "output_type": "stream",
     "text": [
      "1\n",
      "2\n",
      "3\n",
      "4\n",
      "5\n"
     ]
    }
   ],
   "source": [
    "# While loop: Execute while condition is true.\n",
    "\n",
    "i = 1\n",
    "while i < 6:\n",
    "    print(i)\n",
    "    i += 1"
   ]
  },
  {
   "cell_type": "code",
   "execution_count": 16,
   "metadata": {},
   "outputs": [
    {
     "name": "stdout",
     "output_type": "stream",
     "text": [
      "b\n",
      "a\n",
      "n\n",
      "a\n",
      "n\n",
      "a\n",
      "\n",
      "\n",
      "Try continue command\n",
      "\n",
      "\n",
      "b\n",
      "a\n",
      "a\n",
      "a\n"
     ]
    }
   ],
   "source": [
    "# For loop: Iterate over a sequence. Also, have break (stop a loop where it is \n",
    "# and exit) and continue (move to the next iteration of loop).\n",
    "\n",
    "for x in \"banana\":\n",
    "    print(x)\n",
    "    \n",
    "print(\"\\n\")    \n",
    "print(\"Try continue command\")\n",
    "print(\"\\n\")\n",
    "\n",
    "for x in \"banana\":\n",
    "    if x == \"n\":\n",
    "        continue\n",
    "    print(x)"
   ]
  },
  {
   "cell_type": "markdown",
   "metadata": {},
   "source": [
    "## The math package\n",
    "Python provides many modules designed for specialized programming tasks. See: <a href=\"https://pypi.org\" target=\"_blank\">The Python Package Index</a>.\n",
    "\n",
    "The math package contains trigonometric, exponential, logarithmic, hyperbolic, and special functions. It also contains a number of useful constants such as `pi` and `e`."
   ]
  },
  {
   "cell_type": "code",
   "execution_count": 17,
   "metadata": {},
   "outputs": [
    {
     "name": "stdout",
     "output_type": "stream",
     "text": [
      "3.141592653589793\n"
     ]
    }
   ],
   "source": [
    "import math\n",
    "P = math.pi;\n",
    "print(P)"
   ]
  },
  {
   "cell_type": "markdown",
   "metadata": {},
   "source": [
    "Let's use the math package to create something interesting. "
   ]
  },
  {
   "cell_type": "code",
   "execution_count": 18,
   "metadata": {},
   "outputs": [
    {
     "name": "stdout",
     "output_type": "stream",
     "text": [
      "0.0 0.0\n",
      "0.12566370614359174 0.12533323356430426\n",
      "0.25132741228718347 0.2486898871648548\n",
      "0.37699111843077515 0.3681245526846779\n",
      "0.5026548245743669 0.4817536741017153\n",
      "0.6283185307179586 0.5877852522924731\n",
      "0.7539822368615503 0.6845471059286886\n",
      "0.8796459430051421 0.7705132427757891\n",
      "1.0053096491487339 0.8443279255020151\n",
      "1.1309733552923256 0.9048270524660196\n",
      "1.2566370614359172 0.9510565162951535\n",
      "1.382300767579509 0.9822872507286886\n",
      "1.5079644737231006 0.9980267284282716\n",
      "1.6336281798666925 0.9980267284282716\n",
      "1.7592918860102842 0.9822872507286887\n",
      "1.8849555921538756 0.9510565162951536\n",
      "2.0106192982974678 0.9048270524660195\n",
      "2.1362830044410597 0.844327925502015\n",
      "2.261946710584651 0.7705132427757893\n",
      "2.3876104167282426 0.6845471059286888\n",
      "2.5132741228718345 0.5877852522924732\n",
      "2.6389378290154264 0.4817536741017152\n",
      "2.764601535159018 0.36812455268467814\n",
      "2.8902652413026093 0.24868988716485524\n",
      "3.015928947446201 0.12533323356430454\n",
      "3.141592653589793 1.2246467991473532e-16\n",
      "3.267256359733385 -0.1253332335643043\n",
      "3.3929200658769765 -0.24868988716485457\n",
      "3.5185837720205684 -0.3681245526846779\n",
      "3.6442474781641603 -0.4817536741017154\n",
      "3.7699111843077513 -0.5877852522924727\n",
      "3.895574890451343 -0.6845471059286884\n",
      "4.0212385965949355 -0.7705132427757894\n",
      "4.1469023027385274 -0.8443279255020153\n",
      "4.272566008882119 -0.9048270524660198\n",
      "4.39822971502571 -0.9510565162951535\n",
      "4.523893421169302 -0.9822872507286887\n",
      "4.649557127312894 -0.9980267284282716\n",
      "4.775220833456485 -0.9980267284282716\n",
      "4.900884539600077 -0.9822872507286887\n",
      "5.026548245743669 -0.9510565162951536\n",
      "5.15221195188726 -0.9048270524660199\n",
      "5.277875658030853 -0.8443279255020151\n",
      "5.403539364174444 -0.7705132427757896\n",
      "5.529203070318036 -0.684547105928689\n",
      "5.654866776461628 -0.5877852522924732\n",
      "5.780530482605219 -0.4817536741017161\n",
      "5.906194188748811 -0.3681245526846778\n",
      "6.031857894892402 -0.24868988716485535\n",
      "6.157521601035994 -0.12533323356430467\n"
     ]
    }
   ],
   "source": [
    "# This short program will print a table with 50 rows where\n",
    "# each row contains an argument and the sine of the argument.\n",
    "# The sine function will trace on complete period of length\n",
    "# 2*pi.\n",
    "N = 50;\n",
    "for k in range(N):\n",
    "    t = 2*P*k/N;\n",
    "    print(t, math.sin(t))"
   ]
  },
  {
   "cell_type": "markdown",
   "metadata": {},
   "source": [
    "The table above is difficult to read because it is not well formatted. Python has tools to simplify formating with the print command. There is a nice explanation in the Data Mind notes mentioned in the introduction. One prefered method uses `f-strings`, which stands for **format string**. They are indicated by preceeding the string with `f` or `F`."
   ]
  },
  {
   "cell_type": "code",
   "execution_count": 19,
   "metadata": {},
   "outputs": [
    {
     "name": "stdout",
     "output_type": "stream",
     "text": [
      "The value of pi is approximately 3.141592653589793\n",
      "\n",
      "The value of pi is approximately 3.142.\n"
     ]
    }
   ],
   "source": [
    "# Compare two ways of printing pi\n",
    "print('The value of pi is approximately', P)\n",
    "print()\n",
    "print(f'The value of pi is approximately {math.pi:.3f}.')"
   ]
  },
  {
   "cell_type": "markdown",
   "metadata": {},
   "source": [
    "Let's make a prettier (more readable) sinewave table."
   ]
  },
  {
   "cell_type": "code",
   "execution_count": 20,
   "metadata": {},
   "outputs": [
    {
     "name": "stdout",
     "output_type": "stream",
     "text": [
      " 0.00     0.000\n",
      " 0.13     0.125\n",
      " 0.25     0.249\n",
      " 0.38     0.368\n",
      " 0.50     0.482\n",
      " 0.63     0.588\n",
      " 0.75     0.685\n",
      " 0.88     0.771\n",
      " 1.01     0.844\n",
      " 1.13     0.905\n",
      " 1.26     0.951\n",
      " 1.38     0.982\n",
      " 1.51     0.998\n",
      " 1.63     0.998\n",
      " 1.76     0.982\n",
      " 1.88     0.951\n",
      " 2.01     0.905\n",
      " 2.14     0.844\n",
      " 2.26     0.771\n",
      " 2.39     0.685\n",
      " 2.51     0.588\n",
      " 2.64     0.482\n",
      " 2.76     0.368\n",
      " 2.89     0.249\n",
      " 3.02     0.125\n",
      " 3.14     0.000\n",
      " 3.27    -0.125\n",
      " 3.39    -0.249\n",
      " 3.52    -0.368\n",
      " 3.64    -0.482\n",
      " 3.77    -0.588\n",
      " 3.90    -0.685\n",
      " 4.02    -0.771\n",
      " 4.15    -0.844\n",
      " 4.27    -0.905\n",
      " 4.40    -0.951\n",
      " 4.52    -0.982\n",
      " 4.65    -0.998\n",
      " 4.78    -0.998\n",
      " 4.90    -0.982\n",
      " 5.03    -0.951\n",
      " 5.15    -0.905\n",
      " 5.28    -0.844\n",
      " 5.40    -0.771\n",
      " 5.53    -0.685\n",
      " 5.65    -0.588\n",
      " 5.78    -0.482\n",
      " 5.91    -0.368\n",
      " 6.03    -0.249\n",
      " 6.16    -0.125\n"
     ]
    }
   ],
   "source": [
    "# Prettier sine wave table.\n",
    "N = 50;\n",
    "for k in range(N):\n",
    "    t = 2*P*k/N;\n",
    "    print(f'{t: 1.2f}', '  ', f'{math.sin(t): .3f}')\n"
   ]
  },
  {
   "cell_type": "markdown",
   "metadata": {},
   "source": [
    "## People actually used to plot graphs like this on line printers ... (1980s)"
   ]
  },
  {
   "cell_type": "code",
   "execution_count": 21,
   "metadata": {},
   "outputs": [
    {
     "name": "stdout",
     "output_type": "stream",
     "text": [
      "                             +\n",
      "                                 +\n",
      "                                     +\n",
      "                                         +\n",
      "                                            +\n",
      "                                               +\n",
      "                                                  +\n",
      "                                                     +\n",
      "                                                       +\n",
      "                                                         +\n",
      "                                                          +\n",
      "                                                           +\n",
      "                                                           +\n",
      "                                                           +\n",
      "                                                           +\n",
      "                                                          +\n",
      "                                                         +\n",
      "                                                       +\n",
      "                                                     +\n",
      "                                                  +\n",
      "                                               +\n",
      "                                            +\n",
      "                                         +\n",
      "                                     +\n",
      "                                 +\n",
      "                              +\n",
      "                          +\n",
      "                      +\n",
      "                  +\n",
      "               +\n",
      "            +\n",
      "         +\n",
      "      +\n",
      "    +\n",
      "  +\n",
      " +\n",
      "+\n",
      "+\n",
      "+\n",
      "+\n",
      " +\n",
      "  +\n",
      "    +\n",
      "      +\n",
      "         +\n",
      "            +\n",
      "               +\n",
      "                  +\n",
      "                      +\n",
      "                          +\n",
      "                             +\n",
      "                                 +\n",
      "                                     +\n",
      "                                         +\n",
      "                                            +\n",
      "                                               +\n",
      "                                                  +\n",
      "                                                     +\n",
      "                                                       +\n",
      "                                                         +\n",
      "                                                          +\n",
      "                                                           +\n",
      "                                                           +\n",
      "                                                           +\n",
      "                                                           +\n",
      "                                                          +\n",
      "                                                         +\n",
      "                                                       +\n",
      "                                                     +\n",
      "                                                  +\n",
      "                                               +\n",
      "                                            +\n",
      "                                         +\n",
      "                                     +\n",
      "                                 +\n",
      "                              +\n",
      "                          +\n",
      "                      +\n",
      "                  +\n",
      "               +\n",
      "            +\n",
      "         +\n",
      "      +\n",
      "    +\n",
      "  +\n",
      " +\n",
      "+\n",
      "+\n",
      "+\n",
      "+\n",
      " +\n",
      "  +\n",
      "    +\n",
      "      +\n",
      "         +\n",
      "            +\n",
      "               +\n",
      "                  +\n",
      "                      +\n",
      "                          +\n"
     ]
    }
   ],
   "source": [
    "# An old fashioned sine wave plot.\n",
    "N = 50;\n",
    "for k in range(2*N):\n",
    "    t = 2*P*k/N\n",
    "    s = 1 + math.sin(t)\n",
    "    n = math.ceil(30*s)\n",
    "    x = ''\n",
    "    i = 1\n",
    "    while i < n:\n",
    "        x = x + ' '\n",
    "        i += 1\n",
    "    x = x + '+'\n",
    "    print(x)"
   ]
  },
  {
   "cell_type": "markdown",
   "metadata": {},
   "source": [
    "Mercifully there have been improvements in plotting software and other python packages are available."
   ]
  },
  {
   "cell_type": "markdown",
   "metadata": {},
   "source": [
    "## The NumPy Package"
   ]
  },
  {
   "cell_type": "markdown",
   "metadata": {},
   "source": [
    "All data manipulated by a computer is represented in binary. In otherwords, via one method or another, all data -- temperature sensor readings, hourly barometric pressure from your Davis weather station, an audio file, images from your Bushnell game camera, a yield map -- are represented as arrays of numbers.\n",
    "\n",
    "**NumPy (Numerical Python)** provides an efficient interface to store and compute on dense data buffers. NumPy arrays are much more efficient than Python's built-in list data type.\n",
    "\n",
    "See: <a href=\"http://www.numpy.org\" target=\"_blank\">The Numpy Package</a>."
   ]
  },
  {
   "cell_type": "code",
   "execution_count": 1,
   "metadata": {},
   "outputs": [],
   "source": [
    "# Import the numpy package. This command allows us to refer to numpy\n",
    "# commands using the shorthand \"np\".\n",
    "import numpy as np"
   ]
  },
  {
   "cell_type": "markdown",
   "metadata": {},
   "source": [
    "## Plotting examples with Matplotlib\n",
    "A better way to plot. Who says there has been no progress in the world since 1970?"
   ]
  },
  {
   "cell_type": "code",
   "execution_count": 2,
   "metadata": {},
   "outputs": [],
   "source": [
    "# Import matplotlib and define a shorthand\n",
    "import matplotlib as mpl"
   ]
  },
  {
   "cell_type": "code",
   "execution_count": 3,
   "metadata": {},
   "outputs": [
    {
     "data": {
      "text/plain": [
       "array([ 3,  1,  6,  5,  4, 11, -1,  1,  2,  6])"
      ]
     },
     "execution_count": 3,
     "metadata": {},
     "output_type": "execute_result"
    }
   ],
   "source": [
    "x = np.array([1, 2, 3, 4, 5, 6, 7, 8, 9, 10]);\n",
    "y = np.array([3, 1, 6, 5, 4, 11, -1, 1, 2, 6]);\n",
    "\n",
    "y"
   ]
  },
  {
   "cell_type": "code",
   "execution_count": 4,
   "metadata": {},
   "outputs": [
    {
     "data": {
      "text/plain": [
       "['Solarize_Light2',\n",
       " '_classic_test_patch',\n",
       " 'bmh',\n",
       " 'classic',\n",
       " 'dark_background',\n",
       " 'fast',\n",
       " 'fivethirtyeight',\n",
       " 'ggplot',\n",
       " 'grayscale',\n",
       " 'seaborn']"
      ]
     },
     "execution_count": 4,
     "metadata": {},
     "output_type": "execute_result"
    }
   ],
   "source": [
    "import matplotlib.pyplot as plt\n",
    "plt.style.available[:10]"
   ]
  },
  {
   "cell_type": "code",
   "execution_count": 5,
   "metadata": {},
   "outputs": [
    {
     "data": {
      "image/png": "[encoded data removed]",
      "text/plain": [
       "<Figure size 432x288 with 1 Axes>"
      ]
     },
     "metadata": {
      "needs_background": "light"
     },
     "output_type": "display_data"
    }
   ],
   "source": [
    "fig = plt.figure()\n",
    "plt.style.use('classic')\n",
    "plt.plot(x, y)\n",
    "plt.title(\"Example Plot\")\n",
    "plt.xlabel(\"x\")\n",
    "plt.ylabel(\"y\")\n",
    "plt.grid()"
   ]
  },
  {
   "cell_type": "code",
   "execution_count": 6,
   "metadata": {},
   "outputs": [
    {
     "data": {
      "text/plain": [
       "[<matplotlib.lines.Line2D at 0x7f66c8528d10>]"
      ]
     },
     "execution_count": 6,
     "metadata": {},
     "output_type": "execute_result"
    },
    {
     "data": {
      "image/png": "[encoded data removed]",
      "text/plain": [
       "<Figure size 640x480 with 1 Axes>"
      ]
     },
     "metadata": {},
     "output_type": "display_data"
    }
   ],
   "source": [
    "x = np.linspace(0, 10, 100)\n",
    "fig2 = plt.figure()\n",
    "plt.style.use('seaborn-dark-palette')\n",
    "plt.plot(x, np.sin(x))\n",
    "plt.plot(x, np.cos(x))\n"
   ]
  },
  {
   "cell_type": "code",
   "execution_count": 11,
   "metadata": {},
   "outputs": [
    {
     "data": {
      "image/png": "[encoded data removed]",
      "text/plain": [
       "<Figure size 640x480 with 1 Axes>"
      ]
     },
     "metadata": {},
     "output_type": "display_data"
    }
   ],
   "source": [
    "x = np.random.randn(5000)\n",
    "y = np.random.randn(5000)\n",
    "\n",
    "plt.hist2d(x, y, bins=30, cmap='Reds');"
   ]
  },
  {
   "cell_type": "markdown",
   "metadata": {},
   "source": [
    "This will do for Lecture 0. In order to have more interesting data to process and visualize we need to learn to read such into python.\n",
    "\n",
    "**This will be the subject of Lecture 1**"
   ]
  },
  {
   "cell_type": "code",
   "execution_count": 1,
   "metadata": {},
   "outputs": [
    {
     "name": "stdout",
     "output_type": "stream",
     "text": [
      "x xb y yb z w\n",
      "441 23 31 31 31 31\n"
     ]
    }
   ],
   "source": [
    "i = 3\n",
    "x = i\n",
    "xb = i\n",
    "y = i\n",
    "yb = i\n",
    "z = i\n",
    "w = i\n",
    "x = x+4\n",
    "x = x*3\n",
    "x = x**2\n",
    "xb = ((xb+4)*3)^2\n",
    "y = y**2\n",
    "y = y*3\n",
    "y = y+4\n",
    "yb=((yb**2)*3)+4\n",
    "z = z**2*3+4\n",
    "w = w*3**2+4\n",
    "print (\"x xb y yb z w\")\n",
    "print (x, xb, y, yb, z, w)"
   ]
  },
  {
   "cell_type": "code",
   "execution_count": 9,
   "metadata": {},
   "outputs": [
    {
     "name": "stdout",
     "output_type": "stream",
     "text": [
      "0.85 3.0 10 3.090909090909091\n",
      "0.85 3.0 10 3.09\n",
      "0.85 3.0 20 6.181818181818182\n",
      "0.85 3.0 20 6.18\n",
      "0.85 3.0 30 9.272727272727273\n",
      "0.85 3.0 30 9.27\n",
      "0.85 3.0 40 12.363636363636363\n",
      "0.85 3.0 40 12.36\n",
      "0.85 3.0 50 15.454545454545455\n",
      "0.85 3.0 50 15.45\n",
      "0.85 3.0 60 18.545454545454547\n",
      "0.85 3.0 60 18.55\n",
      "0.85 3.5 10 3.606060606060606\n",
      "0.85 3.5 10 3.61\n",
      "0.85 3.5 20 7.212121212121212\n",
      "0.85 3.5 20 7.21\n",
      "0.85 3.5 30 10.818181818181818\n",
      "0.85 3.5 30 10.82\n",
      "0.85 3.5 40 14.424242424242424\n",
      "0.85 3.5 40 14.42\n",
      "0.85 3.5 50 18.03030303030303\n",
      "0.85 3.5 50 18.03\n",
      "0.85 3.5 60 21.636363636363637\n",
      "0.85 3.5 60 21.64\n",
      "0.85 4.0 10 4.121212121212121\n",
      "0.85 4.0 10 4.12\n",
      "0.85 4.0 20 8.242424242424242\n",
      "0.85 4.0 20 8.24\n",
      "0.85 4.0 30 12.363636363636363\n",
      "0.85 4.0 30 12.36\n",
      "0.85 4.0 40 16.484848484848484\n",
      "0.85 4.0 40 16.48\n",
      "0.85 4.0 50 20.606060606060606\n",
      "0.85 4.0 50 20.61\n",
      "0.85 4.0 60 24.727272727272727\n",
      "0.85 4.0 60 24.73\n",
      "0.85 4.5 10 4.636363636363637\n",
      "0.85 4.5 10 4.64\n",
      "0.85 4.5 20 9.272727272727273\n",
      "0.85 4.5 20 9.27\n",
      "0.85 4.5 30 13.909090909090908\n",
      "0.85 4.5 30 13.91\n",
      "0.85 4.5 40 18.545454545454547\n",
      "0.85 4.5 40 18.55\n",
      "0.85 4.5 50 23.181818181818183\n",
      "0.85 4.5 50 23.18\n",
      "0.85 4.5 60 27.818181818181817\n",
      "0.85 4.5 60 27.82\n",
      "0.85 5.0 10 5.151515151515151\n",
      "0.85 5.0 10 5.15\n",
      "0.85 5.0 20 10.303030303030303\n",
      "0.85 5.0 20 10.30\n",
      "0.85 5.0 30 15.454545454545455\n",
      "0.85 5.0 30 15.45\n",
      "0.85 5.0 40 20.606060606060606\n",
      "0.85 5.0 40 20.61\n",
      "0.85 5.0 50 25.757575757575758\n",
      "0.85 5.0 50 25.76\n",
      "0.85 5.0 60 30.90909090909091\n",
      "0.85 5.0 60 30.91\n",
      "0.85 5.5 10 5.666666666666667\n",
      "0.85 5.5 10 5.67\n",
      "0.85 5.5 20 11.333333333333334\n",
      "0.85 5.5 20 11.33\n",
      "0.85 5.5 30 17.0\n",
      "0.85 5.5 30 17.00\n",
      "0.85 5.5 40 22.666666666666668\n",
      "0.85 5.5 40 22.67\n",
      "0.85 5.5 50 28.333333333333332\n",
      "0.85 5.5 50 28.33\n",
      "0.85 5.5 60 34.0\n",
      "0.85 5.5 60 34.00\n",
      "0.85 6.0 10 6.181818181818182\n",
      "0.85 6.0 10 6.18\n",
      "0.85 6.0 20 12.363636363636363\n",
      "0.85 6.0 20 12.36\n",
      "0.85 6.0 30 18.545454545454547\n",
      "0.85 6.0 30 18.55\n",
      "0.85 6.0 40 24.727272727272727\n",
      "0.85 6.0 40 24.73\n",
      "0.85 6.0 50 30.90909090909091\n",
      "0.85 6.0 50 30.91\n",
      "0.85 6.0 60 37.09090909090909\n",
      "0.85 6.0 60 37.09\n",
      "0.85 6.5 10 6.696969696969697\n",
      "0.85 6.5 10 6.70\n",
      "0.85 6.5 20 13.393939393939394\n",
      "0.85 6.5 20 13.39\n",
      "0.85 6.5 30 20.09090909090909\n",
      "0.85 6.5 30 20.09\n",
      "0.85 6.5 40 26.78787878787879\n",
      "0.85 6.5 40 26.79\n",
      "0.85 6.5 50 33.484848484848484\n",
      "0.85 6.5 50 33.48\n",
      "0.85 6.5 60 40.18181818181818\n",
      "0.85 6.5 60 40.18\n",
      "0.85 7.0 10 7.212121212121212\n",
      "0.85 7.0 10 7.21\n",
      "0.85 7.0 20 14.424242424242424\n",
      "0.85 7.0 20 14.42\n",
      "0.85 7.0 30 21.636363636363637\n",
      "0.85 7.0 30 21.64\n",
      "0.85 7.0 40 28.848484848484848\n",
      "0.85 7.0 40 28.85\n",
      "0.85 7.0 50 36.06060606060606\n",
      "0.85 7.0 50 36.06\n",
      "0.85 7.0 60 43.27272727272727\n",
      "0.85 7.0 60 43.27\n"
     ]
    }
   ],
   "source": [
    "# Greyson Brown 4/20/21\n",
    "#\n",
    "# c = field capacity (??) in acres/hour\n",
    "# s = tractor speed in mph\n",
    "# w = width of implement\n",
    "# e = efficiency of swath. A fractional value between 0 and 1\n",
    "# Formula should be c = s*w*e/8.25\n",
    "e = 0.85;\n",
    "n = 9;\n",
    "m = 6;\n",
    "for k in range(n):\n",
    "# range starts at 0 and has n terms, so k will go from 0 to 8 (n-1 since it starts at 0)\n",
    "    s = 3 + 0.5*k\n",
    "    for l in range(m):\n",
    "# range should go from 0 to 5 (m-1)\n",
    "        w = 10*(l+1);\n",
    "        c = s*w*e/8.25\n",
    "        print(e, s, w, c)\n",
    "# format with the .2f fixes 2 after decimal point\n",
    "# use a comment to keep a line of code but pull it from \"running\"\n",
    "        print(e, s, w, format(c,\".2f\"))\n",
    "    \n",
    "\n"
   ]
  },
  {
   "cell_type": "code",
   "execution_count": null,
   "metadata": {},
   "outputs": [],
   "source": []
  }
 ],
 "metadata": {
  "kernelspec": {
   "display_name": "Python 3",
   "language": "python",
   "name": "python3"
  },
  "language_info": {
   "codemirror_mode": {
    "name": "ipython",
    "version": 3
   },
   "file_extension": ".py",
   "mimetype": "text/x-python",
   "name": "python",
   "nbconvert_exporter": "python",
   "pygments_lexer": "ipython3",
   "version": "3.7.10"
  }
 },
 "nbformat": 4,
 "nbformat_minor": 2
}
